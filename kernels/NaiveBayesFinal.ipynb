{
  "cells": [
    {
      "metadata": {
        "_uuid": "8f2839f25d086af736a60e9eeb907d3b93b6e0e5",
        "_cell_guid": "b1076dfc-b9ad-4769-8c92-a6c4dae69d19",
        "trusted": true
      },
      "cell_type": "code",
      "source": "# This Python 3 environment comes with many helpful analytics libraries installed\n# It is defined by the kaggle/python docker image: https://github.com/kaggle/docker-python\n# For example, here's several helpful packages to load in \n\nimport numpy as np # linear algebra\nimport pandas as pd # data processing, CSV file I/O (e.g. pd.read_csv)\n\n# Input data files are available in the \"../input/\" directory.\n# For example, running this (by clicking run or pressing Shift+Enter) will list the files in the input directory\n\nimport os\nprint(os.listdir(\"../input\"))\n\n# Any results you write to the current directory are saved as output.",
      "execution_count": null,
      "outputs": []
    },
    {
      "metadata": {
        "_cell_guid": "79c7e3d0-c299-4dcb-8224-4455121ee9b0",
        "_uuid": "d629ff2d2480ee46fbb7e2d37f6b5fab8052498a",
        "trusted": true
      },
      "cell_type": "code",
      "source": "import numpy as np\nimport pandas as pd\n\ndf = pd.read_csv(\"../input/train.csv\")\ndf_test = pd.read_csv(\"../input/test.csv\")\n",
      "execution_count": null,
      "outputs": []
    },
    {
      "metadata": {
        "trusted": true,
        "_uuid": "8c0e821d61e50c6d515f642cfb5968fd7a29a6aa"
      },
      "cell_type": "code",
      "source": "X = df[\"question_text\"]\ny = df[\"target\"]",
      "execution_count": null,
      "outputs": []
    },
    {
      "metadata": {
        "trusted": true,
        "_uuid": "7ef9d481fa0a17c4b02c00d7a8248f390ef156a4"
      },
      "cell_type": "code",
      "source": "from sklearn.feature_extraction.text import TfidfVectorizer\nvectorizer = TfidfVectorizer(ngram_range=(1,3))",
      "execution_count": null,
      "outputs": []
    },
    {
      "metadata": {
        "trusted": true,
        "_uuid": "eb8ef3b5292d00b8ca3095e7344479d455625367"
      },
      "cell_type": "code",
      "source": "X_t = df_test[\"question_text\"]\nX_t.head()",
      "execution_count": null,
      "outputs": []
    },
    {
      "metadata": {
        "trusted": true,
        "_uuid": "43944000bfbca28e1aeb94d42295beb497075c71"
      },
      "cell_type": "code",
      "source": "import time \nstart_time = time.time()\nXX_train = vectorizer.fit_transform(X)\nXX_test = vectorizer.transform(X_t)\nyy_train = y\nend_time = time.time()\nprint(\"--- %s seconds ---\" % (end_time - start_time))",
      "execution_count": null,
      "outputs": []
    },
    {
      "metadata": {
        "trusted": true,
        "_uuid": "5db04e9b50c834c3f15a8ce2d1f58e5c315b6cb2"
      },
      "cell_type": "code",
      "source": "from imblearn.over_sampling import RandomOverSampler\nfrom sklearn.naive_bayes import MultinomialNB\nfrom sklearn import svm, metrics\nfrom sklearn.svm  import SVC\n\n\nros = RandomOverSampler(random_state=0)\n\nXX_restrain, yy_restrain = ros.fit_resample(XX_train, yy_train)\n\nmOver = MultinomialNB().fit(XX_restrain, yy_restrain)\n\n",
      "execution_count": null,
      "outputs": []
    },
    {
      "metadata": {
        "trusted": true,
        "scrolled": true,
        "_uuid": "1b6f5443622bdbf8a7c8ef798326889772410f00"
      },
      "cell_type": "code",
      "source": "print(\"Train shape: \", XX_restrain.shape)\nprint(\"Test shape: \", XX_test.shape)",
      "execution_count": null,
      "outputs": []
    },
    {
      "metadata": {
        "_uuid": "81271852c61111cf038b8a81f9cbc5c3ee04317f"
      },
      "cell_type": "markdown",
      "source": "### Feature Selection"
    },
    {
      "metadata": {
        "trusted": true,
        "_uuid": "9a8f735dbd9045ac6205ab877109f9b4063821d7"
      },
      "cell_type": "code",
      "source": "from sklearn.feature_selection import RFE\nfrom sklearn.linear_model import LogisticRegression\nimport time\n\ns_time = time.time()\nmod = LogisticRegression()\nrfe = RFE(mod, 2000000)\nfit = rfe.fit(XX_restrain, yy_restrain)\nprint(\"Num Features: %s\" % (fit.n_featrues_))\nprint(\"--- %s seconds ---\" % (time.time() - s_time))",
      "execution_count": null,
      "outputs": []
    },
    {
      "metadata": {
        "trusted": true,
        "_uuid": "a2b2583d0b0ac7639dfeece51cd79fb1b88d8271"
      },
      "cell_type": "code",
      "source": "y_trainPred = mOver.predict(XX_restrain)\n# TRAIN PERFORMANCE\nprint(\"Precision:\" , metrics.precision_score(yy_restrain, y_trainPred, average='macro'))\nprint(\"Recall:\" , metrics.recall_score(yy_restrain, y_trainPred, average='macro'))\nprint(\"Accuracy:\", metrics.accuracy_score(yy_restrain, y_trainPred))\nprint(\"f-Score:\", metrics.f1_score(yy_restrain, y_trainPred))",
      "execution_count": null,
      "outputs": []
    },
    {
      "metadata": {
        "trusted": true,
        "_uuid": "c311c5303c848b1fc8db0161f92d8f61c035bdd5"
      },
      "cell_type": "code",
      "source": "y_testPred = mOver.predict(XX_test)",
      "execution_count": null,
      "outputs": []
    },
    {
      "metadata": {
        "trusted": true,
        "_uuid": "19d13ce624be8025775016e16968627f018fefd9"
      },
      "cell_type": "code",
      "source": "print(mOver.class_log_prior_)",
      "execution_count": null,
      "outputs": []
    },
    {
      "metadata": {
        "trusted": true,
        "_uuid": "66b6312b227229d148f66ae48ec080b42e06f49d"
      },
      "cell_type": "code",
      "source": "mOverPriors = MultinomialNB(class_prior=[0.9, 0.1]).fit(XX_restrain, yy_restrain)",
      "execution_count": null,
      "outputs": []
    },
    {
      "metadata": {
        "trusted": true,
        "_uuid": "d38b031fd2b760ac664ab7446cafb1ee6caa9087"
      },
      "cell_type": "code",
      "source": "y_trainPredPrior = mOverPriors.predict(XX_restrain)\n# TRAIN PERFORMANCE\nprint(\"Precision:\" , metrics.precision_score(yy_restrain, y_trainPredPrior, average='macro'))\nprint(\"Recall:\" , metrics.recall_score(yy_restrain, y_trainPredPrior, average='macro'))\nprint(\"Accuracy:\", metrics.accuracy_score(yy_restrain, y_trainPredPrior))\nprint(\"f-Score:\", metrics.f1_score(yy_restrain, y_trainPredPrior))",
      "execution_count": null,
      "outputs": []
    },
    {
      "metadata": {
        "trusted": true,
        "_uuid": "29481c3da592376865ae965377995ecbcd67f9bb"
      },
      "cell_type": "code",
      "source": "y_testPredPrior = mOverPriors.predict(XX_test)",
      "execution_count": null,
      "outputs": []
    },
    {
      "metadata": {
        "trusted": true,
        "_uuid": "85b67b1580c9c1979c0235a6aead0cbc1e2c6d2b"
      },
      "cell_type": "code",
      "source": "out_df = pd.DataFrame({\"qid\":df_test[\"qid\"].values})\nout_df['prediction'] = y_testPredPrior\nout_df.to_csv(\"submission.csv\", index=False)",
      "execution_count": null,
      "outputs": []
    },
    {
      "metadata": {
        "trusted": true,
        "_uuid": "3d132340ea198e8cd6b535cca2cc800092a58a78"
      },
      "cell_type": "code",
      "source": "",
      "execution_count": null,
      "outputs": []
    }
  ],
  "metadata": {
    "kernelspec": {
      "display_name": "Python 3",
      "language": "python",
      "name": "python3"
    },
    "language_info": {
      "name": "python",
      "version": "3.6.6",
      "mimetype": "text/x-python",
      "codemirror_mode": {
        "name": "ipython",
        "version": 3
      },
      "pygments_lexer": "ipython3",
      "nbconvert_exporter": "python",
      "file_extension": ".py"
    }
  },
  "nbformat": 4,
  "nbformat_minor": 1
}