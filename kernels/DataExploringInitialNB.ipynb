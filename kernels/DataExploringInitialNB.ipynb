{
  "cells": [
    {
      "metadata": {
        "_uuid": "f4e6628c513c53ed38ae593a6c133cdfe867970c"
      },
      "cell_type": "markdown",
      "source": "# Data Exploration and Understanding"
    },
    {
      "metadata": {
        "id": "jeTOb62d5Vh9",
        "colab_type": "code",
        "colab": {},
        "trusted": true,
        "_uuid": "a116cad73c3a8e1311fd93e7d277afa8f538097d"
      },
      "cell_type": "code",
      "source": "import numpy as np\nimport pandas as pd",
      "execution_count": null,
      "outputs": []
    },
    {
      "metadata": {
        "id": "Uxv1v0pG-tk3",
        "colab_type": "code",
        "colab": {},
        "trusted": true,
        "_uuid": "59cf7b945059064350736ee5f5382faf42b64d41"
      },
      "cell_type": "code",
      "source": "# Read the data\ndf_train = pd.read_csv(\"../input/train.csv\")\ndf_test = pd.read_csv(\"../input/test.csv\")",
      "execution_count": null,
      "outputs": []
    },
    {
      "metadata": {
        "trusted": true,
        "_uuid": "11eaaf66b6d40e11897d9a709784dfb7ac446790"
      },
      "cell_type": "code",
      "source": "print(\"Train shape: \", df_train.shape)\nprint(\"Test shape: \", df_test.shape)",
      "execution_count": null,
      "outputs": []
    },
    {
      "metadata": {
        "trusted": true,
        "_uuid": "ff117bf45109a38564cfe286eaf5b38de6ab10ac"
      },
      "cell_type": "code",
      "source": "import matplotlib.pyplot as plt\nlabel = ['Sincere', 'Insincere']\nnum_insincere = df_train['target'].sum()\nnum_sincere   = df_train.shape[0] - num_ins\ncolors = ['green', 'red']\ndata_dist = [num_sincere, num_insincere]",
      "execution_count": null,
      "outputs": []
    },
    {
      "metadata": {
        "_uuid": "3cc225c6455c798949486ff9261d1aa49542ef15"
      },
      "cell_type": "markdown",
      "source": "help for ploting \n\nhttps://medium.com/python-pandemonium/data-visualization-in-python-pie-charts-in-matplotlib-c71fb0fe5c56"
    },
    {
      "metadata": {
        "trusted": true,
        "_uuid": "dc4a197eb14882ebeca860031c0982f11dc1fc56"
      },
      "cell_type": "code",
      "source": "# plot the data\nindex = np.arange(len(label))\nbarchart = plt.bar(index, data_dist)\nbarchart[0].set_color('g')\nbarchart[1].set_color('r')\nplt.xlabel('Classes', fontsize=10)\nplt.ylabel('Number of questions', fontsize=10)\nplt.xticks(index, label, fontsize=10, rotation=0)\nplt.title('Number of questions in each class')\nplt.show()\n\n\nplt.pie(data_dist, labels=label, colors=colors, autopct='%.2f%%')\nplt.title(\"Imbalance data distribution\")\nplt.show()",
      "execution_count": null,
      "outputs": []
    },
    {
      "metadata": {
        "trusted": true,
        "_uuid": "41c41b4db63827ec3b8084c6d73f8fdf404b3f23"
      },
      "cell_type": "code",
      "source": "print(data_dist)",
      "execution_count": null,
      "outputs": []
    },
    {
      "metadata": {
        "id": "gqTPHdBE-246",
        "colab_type": "code",
        "outputId": "a12828d3-1386-4665-ac20-b679bb27cf08",
        "executionInfo": {
          "status": "ok",
          "timestamp": 1545163456260,
          "user_tz": -180,
          "elapsed": 16707,
          "user": {
            "displayName": "shokirov n",
            "photoUrl": "https://lh4.googleusercontent.com/-THUlUKsYz94/AAAAAAAAAAI/AAAAAAAAAIQ/rbsfm7djBjs/s64/photo.jpg",
            "userId": "12996360571506407746"
          }
        },
        "colab": {
          "base_uri": "https://localhost:8080/",
          "height": 204
        },
        "trusted": true,
        "_uuid": "301c55523b711083bc8ec84b511052eb64fe5f2a"
      },
      "cell_type": "code",
      "source": "df_train.head()",
      "execution_count": null,
      "outputs": []
    },
    {
      "metadata": {
        "id": "QTG59kgZ3He0",
        "colab_type": "code",
        "colab": {
          "base_uri": "https://localhost:8080/",
          "height": 204
        },
        "outputId": "14041b1c-1967-42b7-c70d-d9d4dda2d3a4",
        "executionInfo": {
          "status": "ok",
          "timestamp": 1545163456262,
          "user_tz": -180,
          "elapsed": 16681,
          "user": {
            "displayName": "shokirov n",
            "photoUrl": "https://lh4.googleusercontent.com/-THUlUKsYz94/AAAAAAAAAAI/AAAAAAAAAIQ/rbsfm7djBjs/s64/photo.jpg",
            "userId": "12996360571506407746"
          }
        },
        "trusted": true,
        "_uuid": "37ae3c0f4f7a417ba702d00f7a82ff8623acf996"
      },
      "cell_type": "code",
      "source": "df_test.head()",
      "execution_count": null,
      "outputs": []
    },
    {
      "metadata": {
        "id": "P5lTSGka_Iil",
        "colab_type": "code",
        "outputId": "0f03c407-0a24-455d-de4b-796c236d3b0a",
        "executionInfo": {
          "status": "ok",
          "timestamp": 1545163456262,
          "user_tz": -180,
          "elapsed": 16657,
          "user": {
            "displayName": "shokirov n",
            "photoUrl": "https://lh4.googleusercontent.com/-THUlUKsYz94/AAAAAAAAAAI/AAAAAAAAAIQ/rbsfm7djBjs/s64/photo.jpg",
            "userId": "12996360571506407746"
          }
        },
        "colab": {
          "base_uri": "https://localhost:8080/",
          "height": 297
        },
        "trusted": true,
        "_uuid": "4f7d42168c77a1e8f76286ed4629ef9d17ab9c4f"
      },
      "cell_type": "code",
      "source": "df_train.describe()",
      "execution_count": null,
      "outputs": []
    },
    {
      "metadata": {
        "id": "1fYs-bAO3nzl",
        "colab_type": "code",
        "colab": {
          "base_uri": "https://localhost:8080/",
          "height": 173
        },
        "outputId": "d6caf6df-b200-44c2-abff-5161067c2569",
        "executionInfo": {
          "status": "ok",
          "timestamp": 1545163456263,
          "user_tz": -180,
          "elapsed": 16632,
          "user": {
            "displayName": "shokirov n",
            "photoUrl": "https://lh4.googleusercontent.com/-THUlUKsYz94/AAAAAAAAAAI/AAAAAAAAAIQ/rbsfm7djBjs/s64/photo.jpg",
            "userId": "12996360571506407746"
          }
        },
        "trusted": true,
        "_uuid": "768d4c0bbd3df2b3db320dc97d0d46025ca105d8"
      },
      "cell_type": "code",
      "source": "df_test.describe()",
      "execution_count": null,
      "outputs": []
    },
    {
      "metadata": {
        "id": "TiAzgft0_MWy",
        "colab_type": "code",
        "outputId": "2333c71e-51ac-4d09-e1b9-40823d761936",
        "executionInfo": {
          "status": "ok",
          "timestamp": 1545163456657,
          "user_tz": -180,
          "elapsed": 16998,
          "user": {
            "displayName": "shokirov n",
            "photoUrl": "https://lh4.googleusercontent.com/-THUlUKsYz94/AAAAAAAAAAI/AAAAAAAAAIQ/rbsfm7djBjs/s64/photo.jpg",
            "userId": "12996360571506407746"
          }
        },
        "colab": {
          "base_uri": "https://localhost:8080/",
          "height": 85
        },
        "trusted": true,
        "_uuid": "ddf7a6f60928e50470bc5dd366d8f0daa9723414"
      },
      "cell_type": "code",
      "source": "print(df_train.astype(bool).sum(axis = 0))",
      "execution_count": null,
      "outputs": []
    },
    {
      "metadata": {
        "trusted": true,
        "_uuid": "d3efc26a842b2a2ae528e433a889023cb1b6ea9b"
      },
      "cell_type": "code",
      "source": "X = df_train[\"question_text\"]\ny = df_train[\"target\"]\n\nX_t = df_test[\"question_text\"]",
      "execution_count": null,
      "outputs": []
    },
    {
      "metadata": {
        "trusted": true,
        "_uuid": "2d6587b0872a5f516dac6640dff9fdf7e349cd8f"
      },
      "cell_type": "code",
      "source": "# Vectorizing the data \nfrom sklearn.feature_extraction.text import TfidfVectorizer\nvectorizer = TfidfVectorizer()\nX_train = vectorizer.fit_transform(X)\nX_test = vectorizer.transform(X_t)\ny_train = y",
      "execution_count": null,
      "outputs": []
    },
    {
      "metadata": {
        "id": "ppGfZQwMme36",
        "colab_type": "text",
        "_uuid": "f29912efdc32852f873d16064e65a7df303d4c2d"
      },
      "cell_type": "markdown",
      "source": "# Multinomial Naive Bayes"
    },
    {
      "metadata": {
        "id": "v0tPlttvMj8n",
        "colab_type": "code",
        "colab": {},
        "trusted": true,
        "_uuid": "380b502d461c55d22e49cfae5571f10d028a1f26"
      },
      "cell_type": "code",
      "source": "from sklearn.naive_bayes import MultinomialNB\nfrom sklearn import metrics\n\n# building and training the Multinomial Naive Bayes Model\nmodel = MultinomialNB().fit(X_train, y_train)",
      "execution_count": null,
      "outputs": []
    },
    {
      "metadata": {
        "id": "nNp26SAiM0oN",
        "colab_type": "code",
        "colab": {},
        "trusted": true,
        "_uuid": "7e12fc3de6d7602c162b6a271c7cf94a41a97d0d"
      },
      "cell_type": "code",
      "source": "y_train_pred = model.predict(X_train)\n\n# TRAIN PERFORMANCE\nprint(\"Precision:\" , metrics.precision_score(y_train, y_train_pred, average='macro'))\nprint(\"Recall:\" , metrics.recall_score(y_train, y_train_pred, average='macro'))\nprint(\"Accuracy:\", metrics.accuracy_score(y_train, y_train_pred))\nprint(\"f-Score:\", metrics.f1_score(y_train, y_train_pred))",
      "execution_count": null,
      "outputs": []
    },
    {
      "metadata": {
        "id": "k1nLRE-wNFlC",
        "colab_type": "code",
        "outputId": "528fd92e-927f-4505-ce6c-5dca40549218",
        "executionInfo": {
          "status": "ok",
          "timestamp": 1545163460420,
          "user_tz": -180,
          "elapsed": 20607,
          "user": {
            "displayName": "shokirov n",
            "photoUrl": "https://lh4.googleusercontent.com/-THUlUKsYz94/AAAAAAAAAAI/AAAAAAAAAIQ/rbsfm7djBjs/s64/photo.jpg",
            "userId": "12996360571506407746"
          }
        },
        "colab": {
          "base_uri": "https://localhost:8080/",
          "height": 34
        },
        "trusted": true,
        "_uuid": "293aaa5996e79ea7e81431e9d393d3f0115e8391"
      },
      "cell_type": "code",
      "source": "# predicted the test data\ny_test_pred = model.predict(X_test)",
      "execution_count": null,
      "outputs": []
    },
    {
      "metadata": {
        "id": "at-o2Na2RLMj",
        "colab_type": "code",
        "colab": {},
        "trusted": true,
        "_uuid": "08d4e506f8e4e888db1771176533355eb40814be"
      },
      "cell_type": "code",
      "source": "# Writing the results to submission file\n\ndf_out = pd.DataFrame({\"qid\": df_test[\"qid\"].values})\ndf_out['prediction'] = y_test_pred\ndf_out.to_csv(\"submission.csv\", index=False)",
      "execution_count": null,
      "outputs": []
    },
    {
      "metadata": {
        "id": "Ar219jOF6_8r",
        "colab_type": "code",
        "outputId": "9928885a-604c-483e-a79b-301a27b7130a",
        "executionInfo": {
          "status": "ok",
          "timestamp": 1545163476522,
          "user_tz": -180,
          "elapsed": 36567,
          "user": {
            "displayName": "shokirov n",
            "photoUrl": "https://lh4.googleusercontent.com/-THUlUKsYz94/AAAAAAAAAAI/AAAAAAAAAIQ/rbsfm7djBjs/s64/photo.jpg",
            "userId": "12996360571506407746"
          }
        },
        "colab": {
          "base_uri": "https://localhost:8080/",
          "height": 34
        },
        "trusted": true,
        "_uuid": "29b858da156bcf5cdb6b54cc7e1bef6729c61556"
      },
      "cell_type": "code",
      "source": "#GPU count and name\n!nvidia-smi -L",
      "execution_count": null,
      "outputs": []
    },
    {
      "metadata": {
        "id": "g1V9Vi5X7K_3",
        "colab_type": "code",
        "outputId": "bdc414e6-c229-412b-eb3f-db6f59522db1",
        "executionInfo": {
          "status": "ok",
          "timestamp": 1545163480985,
          "user_tz": -180,
          "elapsed": 41021,
          "user": {
            "displayName": "shokirov n",
            "photoUrl": "https://lh4.googleusercontent.com/-THUlUKsYz94/AAAAAAAAAAI/AAAAAAAAAIQ/rbsfm7djBjs/s64/photo.jpg",
            "userId": "12996360571506407746"
          }
        },
        "colab": {
          "base_uri": "https://localhost:8080/",
          "height": 306
        },
        "trusted": true,
        "_uuid": "72ae8bae506f834ca5509d90fa79a86f28386e2c"
      },
      "cell_type": "code",
      "source": "!nvidia-smi",
      "execution_count": null,
      "outputs": []
    }
  ],
  "metadata": {
    "colab": {
      "name": "Copy of quoraNB.ipynb",
      "version": "0.3.2",
      "provenance": [
        {
          "file_id": "1oty4UgR9uUMy1V4nJibNEocXsSZgAV7K",
          "timestamp": 1545160326425
        }
      ],
      "collapsed_sections": []
    },
    "kernelspec": {
      "display_name": "Python 3",
      "language": "python",
      "name": "python3"
    },
    "accelerator": "GPU",
    "language_info": {
      "name": "python",
      "version": "3.6.6",
      "mimetype": "text/x-python",
      "codemirror_mode": {
        "name": "ipython",
        "version": 3
      },
      "pygments_lexer": "ipython3",
      "nbconvert_exporter": "python",
      "file_extension": ".py"
    }
  },
  "nbformat": 4,
  "nbformat_minor": 1
}