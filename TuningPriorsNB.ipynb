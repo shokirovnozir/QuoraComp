{
  "cells": [
    {
      "metadata": {
        "_uuid": "8f2839f25d086af736a60e9eeb907d3b93b6e0e5",
        "_cell_guid": "b1076dfc-b9ad-4769-8c92-a6c4dae69d19",
        "trusted": true
      },
      "cell_type": "code",
      "source": "# This Python 3 environment comes with many helpful analytics libraries installed\n# It is defined by the kaggle/python docker image: https://github.com/kaggle/docker-python\n# For example, here's several helpful packages to load in \n\nimport numpy as np # linear algebra\nimport pandas as pd # data processing, CSV file I/O (e.g. pd.read_csv)\n\n# Input data files are available in the \"../input/\" directory.\n# For example, running this (by clicking run or pressing Shift+Enter) will list the files in the input directory\n\nimport os\nprint(os.listdir(\"../input\"))\n\n# Any results you write to the current directory are saved as output.",
      "execution_count": null,
      "outputs": []
    },
    {
      "metadata": {
        "_cell_guid": "79c7e3d0-c299-4dcb-8224-4455121ee9b0",
        "_uuid": "d629ff2d2480ee46fbb7e2d37f6b5fab8052498a",
        "trusted": true
      },
      "cell_type": "code",
      "source": "import numpy as np\nimport pandas as pd\n\ndf = pd.read_csv(\"../input/train.csv\")\ndf_test = pd.read_csv(\"../input/test.csv\")\n\n\nX = df[\"question_text\"]\ny = df[\"target\"]",
      "execution_count": null,
      "outputs": []
    },
    {
      "metadata": {
        "trusted": true,
        "_uuid": "351f42f4ed12ffec1ebf834cc6adbd00ca86a38c"
      },
      "cell_type": "code",
      "source": "from sklearn.feature_extraction.text import TfidfVectorizer\nvectorizer = TfidfVectorizer(ngram_range=(1,2))\n\nX_t = df_test[\"question_text\"]\nX_t.head()\n\nimport time \nstart_time = time.time()\nXX_train = vectorizer.fit_transform(X)\nXX_test = vectorizer.transform(X_t)\nyy_train = y\nend_time = time.time()\nprint(\"--- %s seconds ---\" % (end_time - start_time))",
      "execution_count": null,
      "outputs": []
    },
    {
      "metadata": {
        "trusted": true,
        "_uuid": "dcf62401bf5b410d6a22812561a6fff340666cc3"
      },
      "cell_type": "code",
      "source": "from imblearn.over_sampling import RandomOverSampler\nfrom sklearn.naive_bayes import MultinomialNB\nfrom sklearn import svm, metrics\n\n\nros = RandomOverSampler(random_state=0)\n\nXX_restrain, yy_restrain = ros.fit_resample(XX_train, yy_train)\n\nmOver = MultinomialNB().fit(XX_restrain, yy_restrain)",
      "execution_count": null,
      "outputs": []
    },
    {
      "metadata": {
        "trusted": true,
        "_uuid": "6a13924ee64e26ddb539bb774ec939f0ce650a1f"
      },
      "cell_type": "code",
      "source": "print(\"Train shape: \", XX_restrain.shape)\nprint(\"Test shape: \", XX_test.shape)",
      "execution_count": null,
      "outputs": []
    },
    {
      "metadata": {
        "trusted": true,
        "_uuid": "54f6469c916c095f492b6934580bd132249f22d2"
      },
      "cell_type": "code",
      "source": "y_trainPred = mOver.predict(XX_restrain)\n# TRAIN PERFORMANCE\nprint(\"Precision:\" , metrics.precision_score(yy_restrain, y_trainPred, average='macro'))\nprint(\"Recall:\" , metrics.recall_score(yy_restrain, y_trainPred, average='macro'))\nprint(\"Accuracy:\", metrics.accuracy_score(yy_restrain, y_trainPred))\nprint(\"f-Score:\", metrics.f1_score(yy_restrain, y_trainPred))",
      "execution_count": null,
      "outputs": []
    },
    {
      "metadata": {
        "trusted": true,
        "_uuid": "83d9bf953f27c2c2036f28994a0db3bd955b8397"
      },
      "cell_type": "code",
      "source": "mOverPriors = MultinomialNB(class_prior=[0.94, 0.06]).fit(XX_restrain, yy_restrain)\n\ny_trainPredPrior = mOverPriors.predict(XX_restrain)\n# TRAIN PERFORMANCE\nprint(\"Precision:\" , metrics.precision_score(yy_restrain, y_trainPredPrior, average='macro'))\nprint(\"Recall:\" , metrics.recall_score(yy_restrain, y_trainPredPrior, average='macro'))\nprint(\"Accuracy:\", metrics.accuracy_score(yy_restrain, y_trainPredPrior))\nprint(\"f-Score:\", metrics.f1_score(yy_restrain, y_trainPredPrior))",
      "execution_count": null,
      "outputs": []
    },
    {
      "metadata": {
        "trusted": true,
        "_uuid": "73aa220fd07e52a6c6937b09acbb27801c3d8b65"
      },
      "cell_type": "code",
      "source": "y_testPredPrior = mOverPriors.predict(XX_test)",
      "execution_count": null,
      "outputs": []
    },
    {
      "metadata": {
        "trusted": true,
        "_uuid": "c7098d7ede150e407c699273a4f31d5178a65dcf"
      },
      "cell_type": "code",
      "source": "out_df = pd.DataFrame({\"qid\":df_test[\"qid\"].values})\nout_df['prediction'] = y_testPredPrior\nout_df.to_csv(\"submission.csv\", index=False)",
      "execution_count": null,
      "outputs": []
    },
    {
      "metadata": {
        "trusted": true,
        "_uuid": "6f0ed7ee203242deaa322a6ef3529d9dde3eaff0"
      },
      "cell_type": "code",
      "source": "",
      "execution_count": null,
      "outputs": []
    }
  ],
  "metadata": {
    "kernelspec": {
      "display_name": "Python 3",
      "language": "python",
      "name": "python3"
    },
    "language_info": {
      "name": "python",
      "version": "3.6.6",
      "mimetype": "text/x-python",
      "codemirror_mode": {
        "name": "ipython",
        "version": 3
      },
      "pygments_lexer": "ipython3",
      "nbconvert_exporter": "python",
      "file_extension": ".py"
    }
  },
  "nbformat": 4,
  "nbformat_minor": 1
}